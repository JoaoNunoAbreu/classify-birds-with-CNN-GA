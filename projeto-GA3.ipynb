{
 "cells": [
  {
   "cell_type": "code",
   "execution_count": 1,
   "metadata": {},
   "outputs": [],
   "source": [
    "import numpy as np\n",
    "import pandas as pd\n",
    "from random import choice, uniform, random, randint\n",
    "from operator import itemgetter, attrgetter\n",
    "\n",
    "# Second, import deep learning library\n",
    "import keras\n",
    "from keras import backend as K\n",
    "from keras.models import Sequential\n",
    "from keras.layers import Conv2D,MaxPooling2D,Dropout,Activation,Flatten,Dense\n",
    "from keras.optimizers import Adam\n",
    "from keras.preprocessing.image import ImageDataGenerator\n",
    "import os"
   ]
  },
  {
   "cell_type": "code",
   "execution_count": 2,
   "metadata": {},
   "outputs": [],
   "source": [
    "# Declare the foundation of GA: Variable .\n",
    "population = [] # placeholders for individual/chromosomes.\n",
    "noPop = 6 # number of chromosomes in a population. Please note that this might\n",
    "# causing overhead to our computation\n",
    "fmap = [16,32,64,128,256] # each value is the features map value. this indicate\n",
    "# how much features map need to produce\n",
    "kernel = [2,3,5,7,9] # kernel is the window size to produce features map.\n",
    "activation = ['relu','sigmoid','tanh'] #this is the activation function to transform\n",
    "# features map before pooling\n",
    "dropout = [0.0,0.1,0.2,0.3,0.4,0.5] # this is dropout value\n",
    "learningRate = [0.0001,0.0005, 0.001, 0.005, 0.01,0.05,0.1,0.5] #this is\n",
    "# learning rate for cnn\n",
    "mutationRate = 0.3 #mutation rate for offspring to randomly change the allele value\n",
    "noGen = 10 # number of generation loop"
   ]
  },
  {
   "cell_type": "code",
   "execution_count": 3,
   "metadata": {},
   "outputs": [
    {
     "name": "stdout",
     "output_type": "stream",
     "text": [
      "Found 35215 images belonging to 250 classes.\n"
     ]
    }
   ],
   "source": [
    "np.random.seed(12) # seeding\n",
    "train = ImageDataGenerator().flow_from_directory('dataset/train',target_size=(224,224),color_mode='grayscale',batch_size=30)"
   ]
  },
  {
   "cell_type": "code",
   "execution_count": 4,
   "metadata": {},
   "outputs": [],
   "source": [
    "def initializingPopulation(population,noPop): # function to initializing chromosomes in population\n",
    "    for i in range (0,noPop): # ieach iteration will generate a chromosome\n",
    "        loss = 0.0\n",
    "        accuracy = 0.0\n",
    "        inPop = [choice(fmap),choice(kernel),choice(activation),choice(dropout),choice(learningRate),loss,accuracy]\n",
    "        # the command of choice is to randomly select the members of the list.\n",
    "        # loss and accuracy need to be set as 0.0 because the is no chromosome evaluation yet.\n",
    "        # in case of my project, loss and accuracy become my objective function/ fitness value\n",
    "        # the formula is min(Loss),max(Accuracy).\n",
    "        population.append (inPop)\n",
    "        # Now, append it to global list variable known as Population"
   ]
  },
  {
   "cell_type": "code",
   "execution_count": 5,
   "metadata": {},
   "outputs": [],
   "source": [
    "def rankSelection (population,noPop): # this is to ranking up and select half of the best chromosomes\n",
    "    population = sorted(population,key=itemgetter(5))\n",
    "    # code above is to ranking the lowest loss, which in ascending order\n",
    "    # in logical point of view, the lowest lost will be sorted at the top of population\n",
    "    population = sorted(population,key=itemgetter(6),reverse=True)\n",
    "    # code above is to ranking the highest accuracy, in descending order\n",
    "    # in logical point of view, the highest accuracy will be sorted at the top of population\n",
    "    noHalfPopulation = noPop//2 # this is to get half number of overall population\n",
    "    halfPopulation = population[:noHalfPopulation]\n",
    "    # in logic, the index of the list start with 0\n",
    "    # therefore, [:noHalfPopulation] denote select chromosomes higher than (<) noHalfPopulation\n",
    "    # example:\n",
    "    # total population of chromosomes is 20\n",
    "    # noHalfPopulation is 10\n",
    "    # [:noHalfPopulation] = [:10]\n",
    "    # this indicate that chromosomes with index 0-9 will be selected\n",
    "\n",
    "    return halfPopulation"
   ]
  },
  {
   "cell_type": "code",
   "execution_count": 6,
   "metadata": {},
   "outputs": [],
   "source": [
    "def tournamentSelection(selectedRank,tSize): # this is tournament selection function\n",
    "    #selectedRank is the placeholders of half best chromosomes\n",
    "    #tSize is tournament size\n",
    "    best = None # variable that hold the only best fitness value\n",
    "    for i in range(0,tSize):\n",
    "        # this loop is to make sure that the returned candidate isn't same for the second time\n",
    "        ind = choice(selectedRank) #randomly selected a candidate\n",
    "        if best == None:\n",
    "            # if variable beest does not hold any chromosome\n",
    "            best = ind\n",
    "            # the variable best will hold onto randomly selected chromosome\n",
    "        elif best == ind:\n",
    "            # if chromosome best and random are identical,\n",
    "            ind = choice(selectedRank)\n",
    "            # it then will randomly select another chromosome\n",
    "\n",
    "        if best[5]>ind[5] and best[6]<ind[6]:\n",
    "            # executed only if variable ind loss is lower and accuracy is higher than variable best\n",
    "            best = ind\n",
    "            #the chromosome in ind will replace chromosome in variable best\n",
    "\n",
    "    return best"
   ]
  },
  {
   "cell_type": "code",
   "execution_count": 7,
   "metadata": {},
   "outputs": [],
   "source": [
    "def crossover(p1,p2): # this is crossover function\n",
    "    crossoverPoint = len(p1)//2 # to get center of the chromosome\n",
    "    # however, this is my project.\n",
    "    # I advicing you guys to make randomly one point or k-point crossover\n",
    "    # here the logic that I can think of:\n",
    "    # crossoverPoint = random.random(0,4)\n",
    "    # the value in crossoverPoint then will become notion to slicing the chromosome\n",
    "    # as you guys can see there, the index is starting from 0 to 4\n",
    "    # I deliberately not include index 5 and 6\n",
    "    # this is because index of 5 is for loss\n",
    "    # index 6 is for accuracy\n",
    "    # both of it, in my project, is the fitness value\n",
    "    # it doesn't make any sense if those indexes become crossover cut point\n",
    "\n",
    "    c1 = p1[:crossoverPoint] + p2[crossoverPoint:]\n",
    "    # this is variable child 1\n",
    "    # p1[:crossoverPoint] indicates the head of parent 1\n",
    "    # p2[crossoverPoint:] indicate tail of parent 2\n",
    "    # :crossoverPoint means index lower than crossoverPoint will be selected as head\n",
    "    # crossoverPoint: indicate the index of crossoverPoint will be included as tail\n",
    "    # example:\n",
    "    # :6 means indexes of 0 to 5 will be selected as head\n",
    "    # 6: means indexes of 6 to 9 will be selected as tail\n",
    "\n",
    "    c2 = p2[:crossoverPoint] + p1[crossoverPoint:]\n",
    "    # this variable will become the second child\n",
    "    # parent 2 as head, parent 1 as tail\n",
    "\n",
    "    return c1, c2\n"
   ]
  },
  {
   "cell_type": "code",
   "execution_count": 8,
   "metadata": {},
   "outputs": [],
   "source": [
    "def mutation (c1,c2):\n",
    "    # this is mutation function\n",
    "    rate = round(random(),2)\n",
    "    print(c1)\n",
    "    print(c2)\n",
    "    \n",
    "    print ('rate: ' +str(rate))\n",
    "    # the rate variable will randomly generate value from 0 to 1\n",
    "    if rate<=mutationRate:\n",
    "        # this if-else statement is to execute mutation\n",
    "        # if variable rate lower or equal to variable mutationRate\n",
    "        # this if-else statement will execute\n",
    "        length = len(c1)-2\n",
    "        print ('length: '+str(length))\n",
    "        # the variable i will become limitation condition for randomly generated index\n",
    "        index = randint(0,length)\n",
    "        print('index: ' +str(index))\n",
    "        # this variable will generate random integer from 0 to lower than length of chromosome\n",
    "        # this exclude the index of loss and accuracy\n",
    "        # this is because mutating loss and accuracy doesn't make any sense\n",
    "\n",
    "        if index == 0:\n",
    "            c1[index] = choice(fmap)\n",
    "            c2[index] = choice(fmap)\n",
    "            # this is to change value of index 0 for both childs\n",
    "        elif index == 1:\n",
    "            c1[index] = choice(kernel)\n",
    "            c2[index] = choice(kernel)\n",
    "            # this is to change value of index 1 for both childs\n",
    "        elif index == 2:\n",
    "            c1[index] = choice(activation)\n",
    "            c2[index] = choice(activation)\n",
    "            # this is to change value of index 2 for both childs\n",
    "        elif index == 3:\n",
    "            c1[index] = choice(dropout)\n",
    "            c2[index] = choice(dropout)\n",
    "            # this is to change value of index 3 for both childs\n",
    "        elif index == 4:\n",
    "            c1[index] = choice(learningRate)\n",
    "            c2[index] = choice(learningRate)\n",
    "            # this is to change value of index 4 for both childs\n",
    "\n",
    "    return c1,c2"
   ]
  },
  {
   "cell_type": "code",
   "execution_count": 12,
   "metadata": {},
   "outputs": [],
   "source": [
    "def cnn(population):\n",
    "    # this function is for cnn\n",
    "    # Making 2 different kind of file kinda headache for me\n",
    "    #but, if no one understand how it goes, later i will commit the separate files\n",
    "    for p in population:\n",
    "        #this is where the fitness value will evaluate\n",
    "        f = p[0] # features map variable\n",
    "        k = p[1] # kernel variable\n",
    "        a = p[2] # activation function variable\n",
    "        d = p[3] # dropout variable\n",
    "        l = p[4] # learning rate variable\n",
    "        print(f,k,a,d,l)\n",
    "        model=Sequential()\n",
    "        model.add(Conv2D(f,(k,k),input_shape=(224,224,1),padding='same'))\n",
    "        model.add(Activation(a))\n",
    "        model.add(MaxPooling2D(pool_size=(2,2),padding='same'))\n",
    "        model.add(Flatten())\n",
    "        model.add(Dense(32*32))\n",
    "        model.add(Dropout(d))\n",
    "        model.add(Dense(250))\n",
    "        model.add(Activation('softmax'))\n",
    "\n",
    "        model.compile(Adam(l),loss='categorical_crossentropy',metrics=['accuracy'])\n",
    "\n",
    "        history = model.fit(train,epochs=100,steps_per_epoch=10,verbose=2)\n",
    "        acc = np.mean(history.history['accuracy'])\n",
    "        loss = np.mean(history.history['loss'])\n",
    "        print(acc)\n",
    "        print(loss)\n",
    "\n",
    "        p[5] = loss\n",
    "        p[6] = acc\n",
    "        print(p[5])\n",
    "        print(p[6])"
   ]
  },
  {
   "cell_type": "code",
   "execution_count": 13,
   "metadata": {},
   "outputs": [
    {
     "name": "stdout",
     "output_type": "stream",
     "text": [
      "Generation 0\n",
      "[32, 3, 'relu', 0.5, 0.05, 0.0, 0.0]\n",
      "[32, 5, 'sigmoid', 0.1, 0.0001, 0.0, 0.0]\n",
      "[16, 9, 'tanh', 0.4, 0.01, 0.0, 0.0]\n",
      "[128, 2, 'tanh', 0.1, 0.005, 0.0, 0.0]\n",
      "[32, 7, 'sigmoid', 0.3, 0.0001, 0.0, 0.0]\n",
      "[16, 3, 'sigmoid', 0.2, 0.001, 0.0, 0.0]\n",
      "[256, 3, 'tanh', 0.3, 0.01, 0.0, 0.0]\n",
      "[32, 3, 'sigmoid', 0.4, 0.05, 0.0, 0.0]\n",
      "[64, 7, 'relu', 0.1, 0.0001, 0.0, 0.0]\n",
      "[256, 5, 'relu', 0.5, 0.05, 0.0, 0.0]\n",
      "[16, 2, 'tanh', 0.3, 0.0005, 0.0, 0.0]\n",
      "[16, 7, 'relu', 0.4, 0.005, 0.0, 0.0]\n"
     ]
    }
   ],
   "source": [
    "# Here is how the code executed\n",
    "initializingPopulation(population,noPop)\n",
    "# Start with initializing population\n",
    "print ('Generation 0')\n",
    "for p in population:\n",
    "    print(p)\n"
   ]
  },
  {
   "cell_type": "code",
   "execution_count": 14,
   "metadata": {
    "scrolled": true
   },
   "outputs": [
    {
     "name": "stdout",
     "output_type": "stream",
     "text": [
      "32 3 relu 0.5 0.05\n",
      "Epoch 1/100\n"
     ]
    },
    {
     "ename": "InvalidArgumentError",
     "evalue": " Input to reshape is a tensor with 12042240 values, but the requested shape requires a multiple of 131072\n\t [[node sequential_1/flatten_1/Reshape (defined at <ipython-input-12-985b49c02e9e>:25) ]] [Op:__inference_train_function_1878]\n\nFunction call stack:\ntrain_function\n",
     "output_type": "error",
     "traceback": [
      "\u001b[1;31m---------------------------------------------------------------------------\u001b[0m",
      "\u001b[1;31mInvalidArgumentError\u001b[0m                      Traceback (most recent call last)",
      "\u001b[1;32m<ipython-input-14-82453332390d>\u001b[0m in \u001b[0;36m<module>\u001b[1;34m\u001b[0m\n\u001b[0;32m      2\u001b[0m     \u001b[1;31m# looping for generation\u001b[0m\u001b[1;33m\u001b[0m\u001b[1;33m\u001b[0m\u001b[1;33m\u001b[0m\u001b[0m\n\u001b[0;32m      3\u001b[0m     \u001b[1;31m# convolutional neural network fitness value\u001b[0m\u001b[1;33m\u001b[0m\u001b[1;33m\u001b[0m\u001b[1;33m\u001b[0m\u001b[0m\n\u001b[1;32m----> 4\u001b[1;33m     \u001b[0mcnn\u001b[0m\u001b[1;33m(\u001b[0m\u001b[0mpopulation\u001b[0m\u001b[1;33m)\u001b[0m\u001b[1;33m\u001b[0m\u001b[1;33m\u001b[0m\u001b[0m\n\u001b[0m\u001b[0;32m      5\u001b[0m     \u001b[1;31m# after cnn fitness evaluation, it will be ranked\u001b[0m\u001b[1;33m\u001b[0m\u001b[1;33m\u001b[0m\u001b[1;33m\u001b[0m\u001b[0m\n\u001b[0;32m      6\u001b[0m     \u001b[0mselectedRank\u001b[0m \u001b[1;33m=\u001b[0m \u001b[0mrankSelection\u001b[0m\u001b[1;33m(\u001b[0m\u001b[0mpopulation\u001b[0m\u001b[1;33m,\u001b[0m\u001b[0mnoPop\u001b[0m\u001b[1;33m)\u001b[0m\u001b[1;33m\u001b[0m\u001b[1;33m\u001b[0m\u001b[0m\n",
      "\u001b[1;32m<ipython-input-12-985b49c02e9e>\u001b[0m in \u001b[0;36mcnn\u001b[1;34m(population)\u001b[0m\n\u001b[0;32m     23\u001b[0m         \u001b[0mmodel\u001b[0m\u001b[1;33m.\u001b[0m\u001b[0mcompile\u001b[0m\u001b[1;33m(\u001b[0m\u001b[0mAdam\u001b[0m\u001b[1;33m(\u001b[0m\u001b[0ml\u001b[0m\u001b[1;33m)\u001b[0m\u001b[1;33m,\u001b[0m\u001b[0mloss\u001b[0m\u001b[1;33m=\u001b[0m\u001b[1;34m'categorical_crossentropy'\u001b[0m\u001b[1;33m,\u001b[0m\u001b[0mmetrics\u001b[0m\u001b[1;33m=\u001b[0m\u001b[1;33m[\u001b[0m\u001b[1;34m'accuracy'\u001b[0m\u001b[1;33m]\u001b[0m\u001b[1;33m)\u001b[0m\u001b[1;33m\u001b[0m\u001b[1;33m\u001b[0m\u001b[0m\n\u001b[0;32m     24\u001b[0m \u001b[1;33m\u001b[0m\u001b[0m\n\u001b[1;32m---> 25\u001b[1;33m         \u001b[0mhistory\u001b[0m \u001b[1;33m=\u001b[0m \u001b[0mmodel\u001b[0m\u001b[1;33m.\u001b[0m\u001b[0mfit\u001b[0m\u001b[1;33m(\u001b[0m\u001b[0mtrain\u001b[0m\u001b[1;33m,\u001b[0m\u001b[0mepochs\u001b[0m\u001b[1;33m=\u001b[0m\u001b[1;36m100\u001b[0m\u001b[1;33m,\u001b[0m\u001b[0msteps_per_epoch\u001b[0m\u001b[1;33m=\u001b[0m\u001b[1;36m10\u001b[0m\u001b[1;33m,\u001b[0m\u001b[0mverbose\u001b[0m\u001b[1;33m=\u001b[0m\u001b[1;36m2\u001b[0m\u001b[1;33m)\u001b[0m\u001b[1;33m\u001b[0m\u001b[1;33m\u001b[0m\u001b[0m\n\u001b[0m\u001b[0;32m     26\u001b[0m         \u001b[0macc\u001b[0m \u001b[1;33m=\u001b[0m \u001b[0mnp\u001b[0m\u001b[1;33m.\u001b[0m\u001b[0mmean\u001b[0m\u001b[1;33m(\u001b[0m\u001b[0mhistory\u001b[0m\u001b[1;33m.\u001b[0m\u001b[0mhistory\u001b[0m\u001b[1;33m[\u001b[0m\u001b[1;34m'accuracy'\u001b[0m\u001b[1;33m]\u001b[0m\u001b[1;33m)\u001b[0m\u001b[1;33m\u001b[0m\u001b[1;33m\u001b[0m\u001b[0m\n\u001b[0;32m     27\u001b[0m         \u001b[0mloss\u001b[0m \u001b[1;33m=\u001b[0m \u001b[0mnp\u001b[0m\u001b[1;33m.\u001b[0m\u001b[0mmean\u001b[0m\u001b[1;33m(\u001b[0m\u001b[0mhistory\u001b[0m\u001b[1;33m.\u001b[0m\u001b[0mhistory\u001b[0m\u001b[1;33m[\u001b[0m\u001b[1;34m'loss'\u001b[0m\u001b[1;33m]\u001b[0m\u001b[1;33m)\u001b[0m\u001b[1;33m\u001b[0m\u001b[1;33m\u001b[0m\u001b[0m\n",
      "\u001b[1;32m~\\anaconda3\\envs\\myenv\\lib\\site-packages\\tensorflow\\python\\keras\\engine\\training.py\u001b[0m in \u001b[0;36mfit\u001b[1;34m(self, x, y, batch_size, epochs, verbose, callbacks, validation_split, validation_data, shuffle, class_weight, sample_weight, initial_epoch, steps_per_epoch, validation_steps, validation_batch_size, validation_freq, max_queue_size, workers, use_multiprocessing)\u001b[0m\n\u001b[0;32m   1098\u001b[0m                 _r=1):\n\u001b[0;32m   1099\u001b[0m               \u001b[0mcallbacks\u001b[0m\u001b[1;33m.\u001b[0m\u001b[0mon_train_batch_begin\u001b[0m\u001b[1;33m(\u001b[0m\u001b[0mstep\u001b[0m\u001b[1;33m)\u001b[0m\u001b[1;33m\u001b[0m\u001b[1;33m\u001b[0m\u001b[0m\n\u001b[1;32m-> 1100\u001b[1;33m               \u001b[0mtmp_logs\u001b[0m \u001b[1;33m=\u001b[0m \u001b[0mself\u001b[0m\u001b[1;33m.\u001b[0m\u001b[0mtrain_function\u001b[0m\u001b[1;33m(\u001b[0m\u001b[0miterator\u001b[0m\u001b[1;33m)\u001b[0m\u001b[1;33m\u001b[0m\u001b[1;33m\u001b[0m\u001b[0m\n\u001b[0m\u001b[0;32m   1101\u001b[0m               \u001b[1;32mif\u001b[0m \u001b[0mdata_handler\u001b[0m\u001b[1;33m.\u001b[0m\u001b[0mshould_sync\u001b[0m\u001b[1;33m:\u001b[0m\u001b[1;33m\u001b[0m\u001b[1;33m\u001b[0m\u001b[0m\n\u001b[0;32m   1102\u001b[0m                 \u001b[0mcontext\u001b[0m\u001b[1;33m.\u001b[0m\u001b[0masync_wait\u001b[0m\u001b[1;33m(\u001b[0m\u001b[1;33m)\u001b[0m\u001b[1;33m\u001b[0m\u001b[1;33m\u001b[0m\u001b[0m\n",
      "\u001b[1;32m~\\anaconda3\\envs\\myenv\\lib\\site-packages\\tensorflow\\python\\eager\\def_function.py\u001b[0m in \u001b[0;36m__call__\u001b[1;34m(self, *args, **kwds)\u001b[0m\n\u001b[0;32m    826\u001b[0m     \u001b[0mtracing_count\u001b[0m \u001b[1;33m=\u001b[0m \u001b[0mself\u001b[0m\u001b[1;33m.\u001b[0m\u001b[0mexperimental_get_tracing_count\u001b[0m\u001b[1;33m(\u001b[0m\u001b[1;33m)\u001b[0m\u001b[1;33m\u001b[0m\u001b[1;33m\u001b[0m\u001b[0m\n\u001b[0;32m    827\u001b[0m     \u001b[1;32mwith\u001b[0m \u001b[0mtrace\u001b[0m\u001b[1;33m.\u001b[0m\u001b[0mTrace\u001b[0m\u001b[1;33m(\u001b[0m\u001b[0mself\u001b[0m\u001b[1;33m.\u001b[0m\u001b[0m_name\u001b[0m\u001b[1;33m)\u001b[0m \u001b[1;32mas\u001b[0m \u001b[0mtm\u001b[0m\u001b[1;33m:\u001b[0m\u001b[1;33m\u001b[0m\u001b[1;33m\u001b[0m\u001b[0m\n\u001b[1;32m--> 828\u001b[1;33m       \u001b[0mresult\u001b[0m \u001b[1;33m=\u001b[0m \u001b[0mself\u001b[0m\u001b[1;33m.\u001b[0m\u001b[0m_call\u001b[0m\u001b[1;33m(\u001b[0m\u001b[1;33m*\u001b[0m\u001b[0margs\u001b[0m\u001b[1;33m,\u001b[0m \u001b[1;33m**\u001b[0m\u001b[0mkwds\u001b[0m\u001b[1;33m)\u001b[0m\u001b[1;33m\u001b[0m\u001b[1;33m\u001b[0m\u001b[0m\n\u001b[0m\u001b[0;32m    829\u001b[0m       \u001b[0mcompiler\u001b[0m \u001b[1;33m=\u001b[0m \u001b[1;34m\"xla\"\u001b[0m \u001b[1;32mif\u001b[0m \u001b[0mself\u001b[0m\u001b[1;33m.\u001b[0m\u001b[0m_experimental_compile\u001b[0m \u001b[1;32melse\u001b[0m \u001b[1;34m\"nonXla\"\u001b[0m\u001b[1;33m\u001b[0m\u001b[1;33m\u001b[0m\u001b[0m\n\u001b[0;32m    830\u001b[0m       \u001b[0mnew_tracing_count\u001b[0m \u001b[1;33m=\u001b[0m \u001b[0mself\u001b[0m\u001b[1;33m.\u001b[0m\u001b[0mexperimental_get_tracing_count\u001b[0m\u001b[1;33m(\u001b[0m\u001b[1;33m)\u001b[0m\u001b[1;33m\u001b[0m\u001b[1;33m\u001b[0m\u001b[0m\n",
      "\u001b[1;32m~\\anaconda3\\envs\\myenv\\lib\\site-packages\\tensorflow\\python\\eager\\def_function.py\u001b[0m in \u001b[0;36m_call\u001b[1;34m(self, *args, **kwds)\u001b[0m\n\u001b[0;32m    886\u001b[0m         \u001b[1;31m# Lifting succeeded, so variables are initialized and we can run the\u001b[0m\u001b[1;33m\u001b[0m\u001b[1;33m\u001b[0m\u001b[1;33m\u001b[0m\u001b[0m\n\u001b[0;32m    887\u001b[0m         \u001b[1;31m# stateless function.\u001b[0m\u001b[1;33m\u001b[0m\u001b[1;33m\u001b[0m\u001b[1;33m\u001b[0m\u001b[0m\n\u001b[1;32m--> 888\u001b[1;33m         \u001b[1;32mreturn\u001b[0m \u001b[0mself\u001b[0m\u001b[1;33m.\u001b[0m\u001b[0m_stateless_fn\u001b[0m\u001b[1;33m(\u001b[0m\u001b[1;33m*\u001b[0m\u001b[0margs\u001b[0m\u001b[1;33m,\u001b[0m \u001b[1;33m**\u001b[0m\u001b[0mkwds\u001b[0m\u001b[1;33m)\u001b[0m\u001b[1;33m\u001b[0m\u001b[1;33m\u001b[0m\u001b[0m\n\u001b[0m\u001b[0;32m    889\u001b[0m     \u001b[1;32melse\u001b[0m\u001b[1;33m:\u001b[0m\u001b[1;33m\u001b[0m\u001b[1;33m\u001b[0m\u001b[0m\n\u001b[0;32m    890\u001b[0m       \u001b[0m_\u001b[0m\u001b[1;33m,\u001b[0m \u001b[0m_\u001b[0m\u001b[1;33m,\u001b[0m \u001b[0m_\u001b[0m\u001b[1;33m,\u001b[0m \u001b[0mfiltered_flat_args\u001b[0m \u001b[1;33m=\u001b[0m\u001b[0;31m \u001b[0m\u001b[0;31m\\\u001b[0m\u001b[1;33m\u001b[0m\u001b[1;33m\u001b[0m\u001b[0m\n",
      "\u001b[1;32m~\\anaconda3\\envs\\myenv\\lib\\site-packages\\tensorflow\\python\\eager\\function.py\u001b[0m in \u001b[0;36m__call__\u001b[1;34m(self, *args, **kwargs)\u001b[0m\n\u001b[0;32m   2941\u001b[0m        filtered_flat_args) = self._maybe_define_function(args, kwargs)\n\u001b[0;32m   2942\u001b[0m     return graph_function._call_flat(\n\u001b[1;32m-> 2943\u001b[1;33m         filtered_flat_args, captured_inputs=graph_function.captured_inputs)  # pylint: disable=protected-access\n\u001b[0m\u001b[0;32m   2944\u001b[0m \u001b[1;33m\u001b[0m\u001b[0m\n\u001b[0;32m   2945\u001b[0m   \u001b[1;33m@\u001b[0m\u001b[0mproperty\u001b[0m\u001b[1;33m\u001b[0m\u001b[1;33m\u001b[0m\u001b[0m\n",
      "\u001b[1;32m~\\anaconda3\\envs\\myenv\\lib\\site-packages\\tensorflow\\python\\eager\\function.py\u001b[0m in \u001b[0;36m_call_flat\u001b[1;34m(self, args, captured_inputs, cancellation_manager)\u001b[0m\n\u001b[0;32m   1917\u001b[0m       \u001b[1;31m# No tape is watching; skip to running the function.\u001b[0m\u001b[1;33m\u001b[0m\u001b[1;33m\u001b[0m\u001b[1;33m\u001b[0m\u001b[0m\n\u001b[0;32m   1918\u001b[0m       return self._build_call_outputs(self._inference_function.call(\n\u001b[1;32m-> 1919\u001b[1;33m           ctx, args, cancellation_manager=cancellation_manager))\n\u001b[0m\u001b[0;32m   1920\u001b[0m     forward_backward = self._select_forward_and_backward_functions(\n\u001b[0;32m   1921\u001b[0m         \u001b[0margs\u001b[0m\u001b[1;33m,\u001b[0m\u001b[1;33m\u001b[0m\u001b[1;33m\u001b[0m\u001b[0m\n",
      "\u001b[1;32m~\\anaconda3\\envs\\myenv\\lib\\site-packages\\tensorflow\\python\\eager\\function.py\u001b[0m in \u001b[0;36mcall\u001b[1;34m(self, ctx, args, cancellation_manager)\u001b[0m\n\u001b[0;32m    558\u001b[0m               \u001b[0minputs\u001b[0m\u001b[1;33m=\u001b[0m\u001b[0margs\u001b[0m\u001b[1;33m,\u001b[0m\u001b[1;33m\u001b[0m\u001b[1;33m\u001b[0m\u001b[0m\n\u001b[0;32m    559\u001b[0m               \u001b[0mattrs\u001b[0m\u001b[1;33m=\u001b[0m\u001b[0mattrs\u001b[0m\u001b[1;33m,\u001b[0m\u001b[1;33m\u001b[0m\u001b[1;33m\u001b[0m\u001b[0m\n\u001b[1;32m--> 560\u001b[1;33m               ctx=ctx)\n\u001b[0m\u001b[0;32m    561\u001b[0m         \u001b[1;32melse\u001b[0m\u001b[1;33m:\u001b[0m\u001b[1;33m\u001b[0m\u001b[1;33m\u001b[0m\u001b[0m\n\u001b[0;32m    562\u001b[0m           outputs = execute.execute_with_cancellation(\n",
      "\u001b[1;32m~\\anaconda3\\envs\\myenv\\lib\\site-packages\\tensorflow\\python\\eager\\execute.py\u001b[0m in \u001b[0;36mquick_execute\u001b[1;34m(op_name, num_outputs, inputs, attrs, ctx, name)\u001b[0m\n\u001b[0;32m     58\u001b[0m     \u001b[0mctx\u001b[0m\u001b[1;33m.\u001b[0m\u001b[0mensure_initialized\u001b[0m\u001b[1;33m(\u001b[0m\u001b[1;33m)\u001b[0m\u001b[1;33m\u001b[0m\u001b[1;33m\u001b[0m\u001b[0m\n\u001b[0;32m     59\u001b[0m     tensors = pywrap_tfe.TFE_Py_Execute(ctx._handle, device_name, op_name,\n\u001b[1;32m---> 60\u001b[1;33m                                         inputs, attrs, num_outputs)\n\u001b[0m\u001b[0;32m     61\u001b[0m   \u001b[1;32mexcept\u001b[0m \u001b[0mcore\u001b[0m\u001b[1;33m.\u001b[0m\u001b[0m_NotOkStatusException\u001b[0m \u001b[1;32mas\u001b[0m \u001b[0me\u001b[0m\u001b[1;33m:\u001b[0m\u001b[1;33m\u001b[0m\u001b[1;33m\u001b[0m\u001b[0m\n\u001b[0;32m     62\u001b[0m     \u001b[1;32mif\u001b[0m \u001b[0mname\u001b[0m \u001b[1;32mis\u001b[0m \u001b[1;32mnot\u001b[0m \u001b[1;32mNone\u001b[0m\u001b[1;33m:\u001b[0m\u001b[1;33m\u001b[0m\u001b[1;33m\u001b[0m\u001b[0m\n",
      "\u001b[1;31mInvalidArgumentError\u001b[0m:  Input to reshape is a tensor with 12042240 values, but the requested shape requires a multiple of 131072\n\t [[node sequential_1/flatten_1/Reshape (defined at <ipython-input-12-985b49c02e9e>:25) ]] [Op:__inference_train_function_1878]\n\nFunction call stack:\ntrain_function\n"
     ]
    }
   ],
   "source": [
    "for gen in range(0,noGen):\n",
    "    # looping for generation\n",
    "    # convolutional neural network fitness value\n",
    "    cnn(population)\n",
    "    # after cnn fitness evaluation, it will be ranked\n",
    "    selectedRank = rankSelection(population,noPop)\n",
    "    print('Selected Ranked Chromosomes:')\n",
    "    for sr in selectedRank:\n",
    "        print(sr)\n",
    "\n",
    "    if selectedRank[-1][5]<6 and selectedRank[-1][6]>0.6:\n",
    "        # this is  stopping condition for genetic algorithm.\n",
    "        # you can change or delete it if you want\n",
    "        # but, remember, waiting for 10 generation is time consumption\n",
    "        # and also computationally overhead\n",
    "        break\n",
    "    else:\n",
    "        child = [] #childs placeholders\n",
    "        tSize = 2 # this indicate 2-way tournament\n",
    "        numberOfMating = len(selectedRank)//2\n",
    "        # this is limiter  for number of child will generate\n",
    "        # let say, you have 12 total population\n",
    "        # let say, you have 6 ranking selection\n",
    "        # the mating process will be 3 time\n",
    "        # but, since the generated child is 2\n",
    "        # thus mating process would generate 6 children\n",
    "        # this is because number of mating * generated Children = half new population\n",
    "        # 3 mating process * 2 newly generated child = 6 population\n",
    "        for i in range (0,numberOfMating):\n",
    "            #this is where mating process take place\n",
    "            parent1 = tournamentSelection(selectedRank,tSize)\n",
    "            parent2 = tournamentSelection(selectedRank,tSize)\n",
    "            while parent2 is parent1:\n",
    "                parent2 = tournamentSelection(selectedRank,tSize)\n",
    "                #this is to make sure the candidate does not identical\n",
    "            c1,c2 = crossover(parent1,parent2)\n",
    "            print('Child 1: %s child 2: %s'%(c1,c2))\n",
    "            c1,c2 = mutation(c1,c2)\n",
    "            child.append(c1)\n",
    "            child.append(c2)\n",
    "\n",
    "        population.clear() # clearing old population\n",
    "        population = selectedRank + child # combining the best half of old population with new childs\n",
    "        # known as elitism method\n",
    "\n",
    "        print ('New Child' + str(gen))\n",
    "        for c in child:\n",
    "            print(c)\n",
    "\n",
    "        print('New Generation ' + str(gen+1))\n",
    "        for p in population:\n",
    "            print(p)\n"
   ]
  },
  {
   "cell_type": "code",
   "execution_count": null,
   "metadata": {},
   "outputs": [],
   "source": []
  },
  {
   "cell_type": "code",
   "execution_count": null,
   "metadata": {},
   "outputs": [],
   "source": []
  }
 ],
 "metadata": {
  "kernelspec": {
   "display_name": "Python 3",
   "language": "python",
   "name": "python3"
  },
  "language_info": {
   "codemirror_mode": {
    "name": "ipython",
    "version": 3
   },
   "file_extension": ".py",
   "mimetype": "text/x-python",
   "name": "python",
   "nbconvert_exporter": "python",
   "pygments_lexer": "ipython3",
   "version": "3.6.12"
  }
 },
 "nbformat": 4,
 "nbformat_minor": 2
}
